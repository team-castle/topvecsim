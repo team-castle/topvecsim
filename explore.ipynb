{
 "cells": [
  {
   "cell_type": "markdown",
   "id": "e18dda1f-0585-464e-b7b1-8fb4bb3776ce",
   "metadata": {
    "tags": []
   },
   "source": [
    "# Explore the Top2Vec model and its contents"
   ]
  },
  {
   "cell_type": "code",
   "execution_count": 5,
   "id": "c9582d29-def4-4dad-8e96-d4e54d59142a",
   "metadata": {},
   "outputs": [
    {
     "name": "stderr",
     "output_type": "stream",
     "text": [
      "/home/jovyan/.cache/pypoetry/virtualenvs/topvecsim-T8zQPXBa-py3.9/lib/python3.9/site-packages/tqdm/auto.py:22: TqdmWarning: IProgress not found. Please update jupyter and ipywidgets. See https://ipywidgets.readthedocs.io/en/stable/user_install.html\n",
      "  from .autonotebook import tqdm as notebook_tqdm\n"
     ]
    }
   ],
   "source": [
    "import os\n",
    "import json\n",
    "import numpy as np \n",
    "import pandas as pd \n",
    "from top2vec import Top2Vec"
   ]
  },
  {
   "cell_type": "code",
   "execution_count": 6,
   "id": "d38faf59-533d-4880-8c8c-3cde2366f4bf",
   "metadata": {},
   "outputs": [],
   "source": [
    "top2vec = Top2Vec.load(\"cs-papers-only.top2vec\")"
   ]
  },
  {
   "cell_type": "markdown",
   "id": "795476ef-8afd-48a9-b712-9dec408ca8a3",
   "metadata": {
    "tags": []
   },
   "source": [
    "### Data\n",
    "\n",
    "The model contains three types of data of interest: words, documents, and topics.\n",
    "\n",
    "Of these, words and documents are represented as both text and embeddings while topics\n",
    "are represented only as vectors."
   ]
  },
  {
   "cell_type": "code",
   "execution_count": 6,
   "id": "44a28e0a-144e-4692-936a-7107cfb0c316",
   "metadata": {},
   "outputs": [
    {
     "data": {
      "text/plain": [
       "['the', 'of', 'and', 'to', 'in']"
      ]
     },
     "execution_count": 6,
     "metadata": {},
     "output_type": "execute_result"
    }
   ],
   "source": [
    "# Words are in `.vocab`\n",
    "top2vec.vocab[:5]"
   ]
  },
  {
   "cell_type": "code",
   "execution_count": 10,
   "id": "23fb01cc-6652-4d78-a4da-7421ca97b3ba",
   "metadata": {},
   "outputs": [
    {
     "data": {
      "text/plain": [
       "'  The Extended BP (EBP) Generalized EXIT (GEXIT) function introduced in\\n\\\\cite{MMRU05} plays a fundamental role in the asymptotic analysis of sparse\\ngraph codes. For transmission over the binary erasure channel (BEC) the\\nanalytic properties of the EBP GEXIT function are relatively simple and well\\nunderstood. The general case is much harder and even the existence of the curve\\nis not known in general. We introduce some tools from non-linear analysis which\\ncan be useful to prove the existence of EXIT like curves in some cases. The\\nmain tool is the Krasnoselskii-Rabinowitz (KR) bifurcation theorem.\\n'"
      ]
     },
     "execution_count": 10,
     "metadata": {},
     "output_type": "execute_result"
    }
   ],
   "source": [
    "# Documents are in `.documents`\n",
    "top2vec.documents[100]"
   ]
  },
  {
   "cell_type": "code",
   "execution_count": 14,
   "id": "2f1b1b31-f717-4da6-b1aa-1b6ecc798ac2",
   "metadata": {},
   "outputs": [
    {
     "name": "stdout",
     "output_type": "stream",
     "text": [
      "Type: <class 'numpy.ndarray'>\n",
      "Shape: (300,)\n"
     ]
    }
   ],
   "source": [
    "# Word vectors are in `.word_vectors`\n",
    "word_vector_example = top2vec.word_vectors[0]\n",
    "print(f\"Type: {type(word_vector_example)}\\nShape: {word_vector_example.shape}\")"
   ]
  },
  {
   "cell_type": "code",
   "execution_count": 16,
   "id": "1ee2e88e-b018-4c90-a1d9-f8ab714d810c",
   "metadata": {},
   "outputs": [
    {
     "name": "stdout",
     "output_type": "stream",
     "text": [
      "Type: <class 'numpy.ndarray'>\n",
      "Shape: (300,)\n"
     ]
    }
   ],
   "source": [
    "# Document vectors are in `.document_vectors`\n",
    "doc_vector_example = top2vec.document_vectors[0]\n",
    "print(f\"Type: {type(doc_vector_example)}\\nShape: {doc_vector_example.shape}\")"
   ]
  },
  {
   "cell_type": "code",
   "execution_count": 17,
   "id": "cc8916f2-8dac-453a-9fee-ba07cec04ef2",
   "metadata": {},
   "outputs": [
    {
     "name": "stdout",
     "output_type": "stream",
     "text": [
      "Type: <class 'numpy.ndarray'>\n",
      "Shape: (300,)\n"
     ]
    }
   ],
   "source": [
    "# Topic vectors are in `.topic_vectors`\n",
    "topic_vector_example = top2vec.topic_vectors[0]\n",
    "print(f\"Type: {type(topic_vector_example)}\\nShape: {topic_vector_example.shape}\")"
   ]
  },
  {
   "cell_type": "markdown",
   "id": "79da2e8c-eb41-4808-87ec-11c9d88c1aea",
   "metadata": {},
   "source": [
    "# Determining Structure of Data in Redis"
   ]
  },
  {
   "cell_type": "markdown",
   "id": "c22a5eb4-0526-4c3c-a601-26c85708a5cc",
   "metadata": {},
   "source": [
    "### Metadata\n",
    "\n",
    "* id: str\n",
    "* title: str\n",
    "* year: int\n",
    "* authors: str\n",
    "* categories: str (comma separated)\n",
    "* abstract: str\n",
    "* input: cleaned title + abstract\n",
    "\n",
    "### Top2Vec Output\n",
    "\n",
    "* words: str\n",
    "* documents: str\n",
    "* word_vectors: numpy array; Shape: 300,\n",
    "* document_vectors: numpy array; Shape: 300,\n",
    "* topic_vectors: numpy array; Shape: 300,"
   ]
  },
  {
   "cell_type": "markdown",
   "id": "b299a64d-2700-4f31-aff2-994bd51af936",
   "metadata": {},
   "source": [
    "### Questions\n",
    "\n",
    "**Q**: Can a vector index be created on a property of something created through redis-om? And  \n",
    "   is there no downside to having a large bytes object (the numpy array of the vector in bytes) in such a model?  \n",
    "\n",
    "    - If so, all the above properties can be in a single pydantic model.  \n",
    "    - If not, we'll have a separate place for the vectors, which will be related to the\n",
    "      metadata through the primary key.\n",
    "\n",
    "**A**: Looks like this isn't possible just yet, so we'll follow the method of having the paper metadata separate  \n",
    "   from the vectors which will be stored in a hash: https://github.com/redis/redis-om-python/issues/343. We can  \n",
    "   follow Tyler's work [here](https://github.com/RedisVentures/redis-arXiv-search/blob/b40eab980e67ebb505635c7dd53ac2bb63d622da/backend/vecsim_app/models.py) and [here](https://github.com/RedisVentures/redis-arXiv-search/blob/main/backend/vecsim_app/load_data.py)."
   ]
  },
  {
   "cell_type": "code",
   "execution_count": 1,
   "id": "8c013551",
   "metadata": {},
   "outputs": [
    {
     "name": "stderr",
     "output_type": "stream",
     "text": [
      "/home/jovyan/.cache/pypoetry/virtualenvs/topvecsim-T8zQPXBa-py3.9/lib/python3.9/site-packages/tqdm/auto.py:22: TqdmWarning: IProgress not found. Please update jupyter and ipywidgets. See https://ipywidgets.readthedocs.io/en/stable/user_install.html\n",
      "  from .autonotebook import tqdm as notebook_tqdm\n"
     ]
    }
   ],
   "source": [
    "import os\n",
    "os.environ[\"REDIS_OM_URL\"] = f\"redis://default:{os.getenv('REDIS_PASSWORD', '')}@redis-18891.c21900.ap-south-1-1.ec2.cloud.rlrcp.com:18891/0\"\n",
    "\n",
    "from topvecsim.models import Paper\n",
    "from topvecsim.redis_utils import redis_conn\n",
    "from topvecsim.search_index import SearchIndex\n",
    "from topvecsim.load_data import load_all_data_from_disk\n",
    "\n",
    "search_index = SearchIndex()"
   ]
  },
  {
   "cell_type": "code",
   "execution_count": 2,
   "id": "46563c10",
   "metadata": {},
   "outputs": [],
   "source": [
    "result = await load_all_data_from_disk(\n",
    "    model_path=\"../math.top2vec\",\n",
    "    df_path=\"../arxiv-df-2022.pkl\",\n",
    "    limit_data={\n",
    "        \"papers\": {\n",
    "            \"upper\": 500\n",
    "        },\n",
    "        \"words\": {\n",
    "            \"upper\": 500\n",
    "        },\n",
    "        \"topics\": {\n",
    "            \"upper\": 100\n",
    "        }\n",
    "    },\n",
    ")"
   ]
  },
  {
   "cell_type": "code",
   "execution_count": 3,
   "id": "dab02b0f",
   "metadata": {},
   "outputs": [
    {
     "name": "stdout",
     "output_type": "stream",
     "text": [
      "Paper Category: quant-ph\n",
      "Topic word 0: b'junctions'\n"
     ]
    }
   ],
   "source": [
    "# Sample text search\n",
    "print(f\"Paper Category: {(await Paper.find(Paper.abstract % 'probability').first()).categories}\")\n",
    "\n",
    "# Sample topic search\n",
    "print(f\"Topic word 0: {(await redis_conn.hgetall(f'topic_vector:5'))[b'word_0']}\")"
   ]
  },
  {
   "cell_type": "code",
   "execution_count": 4,
   "id": "5c5caba1",
   "metadata": {},
   "outputs": [
    {
     "name": "stdout",
     "output_type": "stream",
     "text": [
      "Document {'id': 'paper_vector:1806.09066', 'payload': None, 'vector_score': '0.625671982765', 'paper_id': '1806.09066', 'paper_pk': '01GH8W60YSM8TB66DPT59MYHXH'}\n"
     ]
    }
   ],
   "source": [
    "# Sample vector search\n",
    "query = search_index.vector_query([], [])\n",
    "res = await redis_conn.ft(\"papers\").search(\n",
    "    query,\n",
    "    query_params={\n",
    "        \"vec_param\": await redis_conn.hget(\"topic_vector:5\", \"vector\")\n",
    "    }\n",
    ")\n",
    "\n",
    "print(res.docs[0])"
   ]
  },
  {
   "cell_type": "code",
   "execution_count": 16,
   "id": "5d521021",
   "metadata": {},
   "outputs": [
    {
     "data": {
      "text/plain": [
       "True"
      ]
     },
     "execution_count": 16,
     "metadata": {},
     "output_type": "execute_result"
    }
   ],
   "source": [
    "# Get rid of all keys in the DB.\n",
    "# await redis_conn.flushall()"
   ]
  },
  {
   "cell_type": "markdown",
   "id": "b7b620f5",
   "metadata": {},
   "source": [
    "## Test MinIO"
   ]
  },
  {
   "cell_type": "code",
   "execution_count": 28,
   "id": "db6ab527",
   "metadata": {},
   "outputs": [],
   "source": [
    "import boto3\n",
    "\n",
    "BUCKET = 'topvecsim'\n",
    "ENDPOINT = 'https://castle-minio.community.saturnenterprise.io'\n",
    "AWS_ACCESS_KEY_ID = 'minioadmin'\n",
    "AWS_SECRET_ACCESS_KEY = 'minioadmin'\n",
    "REGIONNAME = 'random'\n",
    "\n",
    "session = boto3.Session(\n",
    "    aws_access_key_id=AWS_ACCESS_KEY_ID,\n",
    "    aws_secret_access_key=AWS_SECRET_ACCESS_KEY,\n",
    "    aws_session_token=None,\n",
    "    region_name=REGIONNAME,\n",
    "    botocore_session=None,\n",
    "    profile_name=None\n",
    ")\n",
    "\n",
    "s3resource = session.resource('s3', endpoint_url=ENDPOINT)\n",
    "\n",
    "s3resource.Bucket(BUCKET).creation_date"
   ]
  }
 ],
 "metadata": {
  "kernelspec": {
   "display_name": "topvecsim-T8zQPXBa-py3.9",
   "language": "python",
   "name": "python3"
  },
  "language_info": {
   "codemirror_mode": {
    "name": "ipython",
    "version": 3
   },
   "file_extension": ".py",
   "mimetype": "text/x-python",
   "name": "python",
   "nbconvert_exporter": "python",
   "pygments_lexer": "ipython3",
   "version": "3.9.12"
  },
  "vscode": {
   "interpreter": {
    "hash": "c6790ecb0c093c8ba092246a369954fbff1527769864bc2698bfba86201502b8"
   }
  }
 },
 "nbformat": 4,
 "nbformat_minor": 5
}
